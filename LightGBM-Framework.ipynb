{
 "cells": [
  {
   "cell_type": "code",
   "execution_count": 7,
   "metadata": {},
   "outputs": [
    {
     "data": {
      "text/plain": [
       "0"
      ]
     },
     "execution_count": 7,
     "metadata": {},
     "output_type": "execute_result"
    }
   ],
   "source": [
    "# Clean Trash file to free up disk space\n",
    "import subprocess\n",
    "subprocess.call(['rm','-rf','../.local/share/Trash/files/*'])"
   ]
  },
  {
   "cell_type": "code",
   "execution_count": null,
   "metadata": {},
   "outputs": [
    {
     "name": "stderr",
     "output_type": "stream",
     "text": [
      "/usr/local/envs/py3env/lib/python3.5/site-packages/sklearn/cross_validation.py:41: DeprecationWarning: This module was deprecated in version 0.18 in favor of the model_selection module into which all the refactored classes and functions are moved. Also note that the interface of the new CV iterators are different from that of this module. This module will be removed in 0.20.\n",
      "  \"This module will be removed in 0.20.\", DeprecationWarning)\n"
     ]
    },
    {
     "data": {
      "text/html": [
       "<script>requirejs.config({paths: { 'plotly': ['https://cdn.plot.ly/plotly-latest.min']},});if(!window.Plotly) {{require(['plotly'],function(plotly) {window.Plotly=plotly;});}}</script>"
      ],
      "text/plain": [
       "<IPython.core.display.HTML object>"
      ]
     },
     "metadata": {},
     "output_type": "display_data"
    },
    {
     "name": "stdout",
     "output_type": "stream",
     "text": [
      "Generating fold aware features for fold 8\n",
      "Reading feature matrix\n"
     ]
    }
   ],
   "source": [
    "import os\n",
    "import tempfile\n",
    "\n",
    "import pandas as pd\n",
    "import gc\n",
    "import dask.dataframe as dd\n",
    "\n",
    "from custom_code.upload_file_to_gcs import upload_file_to_gcs\n",
    "from custom_code.load_data import load_data\n",
    "from custom_code.load_wa_forecast import load_wa_forecast\n",
    "from custom_code.load_product import load_product\n",
    "from custom_code.process_features import process_features\n",
    "from custom_code.create_folds_and_slice_features import create_folds_and_slice_features\n",
    "from custom_code.create_fold_aware_features import create_fold_aware_features\n",
    "from custom_code.predict_and_save_results_per_fold import predict_and_save_results_per_fold\n",
    "from custom_code.train_model_per_fold import train_model_per_fold\n",
    "from custom_code.predict_and_save_results_per_fold import predict_and_save_results_per_fold\n",
    "from custom_code.process_results import process_results\n",
    "from custom_code.settings import RUNTAG, PROJECT, BUCKET, DATA_DIR, RESULTS_DIR, PARAMS\n",
    "\n",
    "\n",
    "DATA = False\n",
    "WA_FORECAST = False\n",
    "PRODUCT = False\n",
    "FEATURES = False\n",
    "FOLDS_AND_SLICES = False\n",
    "FOLD_AWARE_FEATURES = True\n",
    "TRAIN_PER_FOLD = False\n",
    "PREDICT_PER_FOLD = False\n",
    "RESULTS = False\n",
    "\n",
    "\n",
    "if DATA:\n",
    "    data_df = load_data()\n",
    "    print('Writing data to GCS')\n",
    "    file_location = './temp.h5'\n",
    "    with open(file_location, 'w') as tf:\n",
    "        data_df.to_hdf(file_location, 'data_df')\n",
    "        upload_file_to_gcs(PROJECT, BUCKET, file_location, '{}/actual_{}.h5'.format(DATA_DIR, RUNTAG))\n",
    "    gc.collect()\n",
    "\n",
    "if WA_FORECAST:\n",
    "    wa_forecast_df = load_wa_forecast()\n",
    "    print('Writing WA to GCS')\n",
    "    with open(tempfile.NamedTemporaryFile().name, 'w') as temp_csv:\n",
    "        wa_forecast_df.to_csv('{}.csv'.format(temp_csv.name), index=False)\n",
    "        upload_file_to_gcs(PROJECT, BUCKET, '{}.csv'.format(temp_csv.name), '{}/wa_{}.csv'.format(DATA_DIR, RUNTAG))\n",
    "    gc.collect()\n",
    "\n",
    "if PRODUCT:\n",
    "    product_df = load_product()\n",
    "    print('Writing Product to GCS')\n",
    "    with open(tempfile.NamedTemporaryFile().name, 'w') as temp_csv:\n",
    "        product_df.to_csv('{}.csv'.format(temp_csv.name), index=False)\n",
    "        upload_file_to_gcs(PROJECT, BUCKET, '{}.csv'.format(temp_csv.name), '{}/product_{}.csv'.format(DATA_DIR, RUNTAG))\n",
    "    gc.collect()\n",
    "\n",
    "if FEATURES:\n",
    "    data_df = dd.read_csv('gs://{}/{}/actual_{}.csv'.format(BUCKET, DATA_DIR, RUNTAG))\n",
    "    data_df = data_df.compute()\n",
    "    features_df = process_features(data_df)\n",
    "    print('Writing features to GCS')\n",
    "    features_dd = dd.from_pandas(features_df, npartitions=5000)\n",
    "    features_dd.to_csv('gs://{}/{}/features_{}/features_*.csv'.format(BUCKET, DATA_DIR, RUNTAG), index=False)\n",
    "#     with open(tempfile.NamedTemporaryFile().name, 'w') as temp_csv:\n",
    "#       features_df.to_csv('{}.csv'.format(temp_csv.name), index=False)\n",
    "#       upload_file_to_gcs(PROJECT, BUCKET, '{}.csv'.format(temp_csv.name), '{}/features_{}.csv'.format(DATA_DIR, RUNTAG))\n",
    "    gc.collect()\n",
    "    \n",
    "if FOLDS_AND_SLICES:\n",
    "    create_folds_and_slice_features()\n",
    "    gc.collect()\n",
    "\n",
    "if FOLD_AWARE_FEATURES:\n",
    "    create_fold_aware_features()\n",
    "    gc.collect()\n",
    "    \n",
    "if TRAIN_PER_FOLD:\n",
    "    train_model_per_fold()\n",
    "    gc.collect()\n",
    "    \n",
    "if PREDICT_PER_FOLD:\n",
    "    predict_and_save_results_per_fold()\n",
    "    gc.collect()\n",
    "\n",
    "if RESULTS:\n",
    "    results_df = dd.read_csv('gs://{}/{}/results_*_{}.csv'.format(BUCKET, RESULTS_DIR, RUNTAG))\n",
    "#     results_df = dd.read_csv('./results/results_*.csv')\n",
    "    results_df = results_df.compute()\n",
    "    features_importance_df = dd.read_csv('gs://{}/{}/importance_*_{}.csv'.format(BUCKET, RESULTS_DIR, RUNTAG))\n",
    "#     features_importance_df = dd.read_csv('./results/importance_*.csv')\n",
    "    features_importance_df = features_importance_df.compute()\n",
    "    results_df = process_results(results_df, features_importance_df, PARAMS)\n",
    "    print('Writing results to GCS')\n",
    "    with open(tempfile.NamedTemporaryFile().name, 'w') as temp_csv:\n",
    "        results_df.to_csv('{}.csv'.format(temp_csv.name), index=False)\n",
    "        upload_file_to_gcs(PROJECT, BUCKET, '{}.csv'.format(temp_csv.name), '{}/{}_results_with_wa.csv'.format(RESULTS_DIR, RUNTAG))\n",
    "    gc.collect()"
   ]
  },
  {
   "cell_type": "code",
   "execution_count": 1,
   "metadata": {},
   "outputs": [
    {
     "name": "stdout",
     "output_type": "stream",
     "text": [
      "Collecting workalendar\n",
      "Requirement already satisfied: pytz in /usr/local/envs/py3env/lib/python3.5/site-packages (from workalendar) (2016.7)\n",
      "Collecting pyCalverter (from workalendar)\n",
      "Requirement already satisfied: python-dateutil in /usr/local/envs/py3env/lib/python3.5/site-packages (from workalendar) (2.5.0)\n",
      "Requirement already satisfied: setuptools>=1.0 in /usr/local/envs/py3env/lib/python3.5/site-packages (from workalendar) (40.0.0)\n",
      "Collecting lunardate (from workalendar)\n",
      "  Using cached https://files.pythonhosted.org/packages/4e/7e/377a3cbba646ec0cf79433ef858881d809a3b87eb887b0901cb83c66a758/lunardate-0.2.0-py3-none-any.whl\n",
      "Collecting ephem (from workalendar)\n",
      "Requirement already satisfied: six>=1.5 in /usr/local/envs/py3env/lib/python3.5/site-packages (from python-dateutil->workalendar) (1.10.0)\n",
      "Installing collected packages: pyCalverter, lunardate, ephem, workalendar\n",
      "Successfully installed ephem-3.7.6.0 lunardate-0.2.0 pyCalverter-1.6.1 workalendar-3.1.1\n"
     ]
    }
   ],
   "source": [
    "!pip install workalendar"
   ]
  },
  {
   "cell_type": "code",
   "execution_count": 2,
   "metadata": {},
   "outputs": [
    {
     "name": "stdout",
     "output_type": "stream",
     "text": [
      "Collecting lightgbm\n",
      "  Using cached https://files.pythonhosted.org/packages/4c/3b/4ae113193b4ee01387ed76d5eea32788aec0589df9ae7378a8b7443eaa8b/lightgbm-2.2.2-py2.py3-none-manylinux1_x86_64.whl\n",
      "Requirement already satisfied: numpy in /usr/local/envs/py3env/lib/python3.5/site-packages (from lightgbm) (1.14.0)\n",
      "Requirement already satisfied: scikit-learn in /usr/local/envs/py3env/lib/python3.5/site-packages (from lightgbm) (0.19.1)\n",
      "Requirement already satisfied: scipy in /usr/local/envs/py3env/lib/python3.5/site-packages (from lightgbm) (1.0.0)\n",
      "Installing collected packages: lightgbm\n",
      "Successfully installed lightgbm-2.2.2\n"
     ]
    }
   ],
   "source": [
    "!pip install lightgbm"
   ]
  },
  {
   "cell_type": "code",
   "execution_count": 3,
   "metadata": {},
   "outputs": [
    {
     "name": "stdout",
     "output_type": "stream",
     "text": [
      "Collecting shap\n",
      "Requirement already satisfied: ipython in /usr/local/envs/py3env/lib/python3.5/site-packages (from shap) (6.5.0)\n",
      "Requirement already satisfied: numpy in /usr/local/envs/py3env/lib/python3.5/site-packages (from shap) (1.14.0)\n",
      "Requirement already satisfied: scikit-learn in /usr/local/envs/py3env/lib/python3.5/site-packages (from shap) (0.19.1)\n",
      "Requirement already satisfied: scipy in /usr/local/envs/py3env/lib/python3.5/site-packages (from shap) (1.0.0)\n",
      "Collecting tqdm (from shap)\n",
      "  Using cached https://files.pythonhosted.org/packages/91/55/8cb23a97301b177e9c8e3226dba45bb454411de2cbd25746763267f226c2/tqdm-4.28.1-py2.py3-none-any.whl\n",
      "Requirement already satisfied: pandas in /usr/local/envs/py3env/lib/python3.5/site-packages (from shap) (0.22.0)\n",
      "Requirement already satisfied: matplotlib in /usr/local/envs/py3env/lib/python3.5/site-packages (from shap) (2.1.2)\n",
      "Requirement already satisfied: traitlets>=4.2 in /usr/local/envs/py3env/lib/python3.5/site-packages (from ipython->shap) (4.3.2)\n",
      "Requirement already satisfied: backcall in /usr/local/envs/py3env/lib/python3.5/site-packages (from ipython->shap) (0.1.0)\n",
      "Requirement already satisfied: simplegeneric>0.8 in /usr/local/envs/py3env/lib/python3.5/site-packages (from ipython->shap) (0.8.1)\n",
      "Requirement already satisfied: jedi>=0.10 in /usr/local/envs/py3env/lib/python3.5/site-packages (from ipython->shap) (0.12.1)\n",
      "Requirement already satisfied: setuptools>=18.5 in /usr/local/envs/py3env/lib/python3.5/site-packages (from ipython->shap) (40.0.0)\n",
      "Requirement already satisfied: prompt-toolkit<2.0.0,>=1.0.15 in /usr/local/envs/py3env/lib/python3.5/site-packages (from ipython->shap) (1.0.15)\n",
      "Requirement already satisfied: pygments in /usr/local/envs/py3env/lib/python3.5/site-packages (from ipython->shap) (2.1.3)\n",
      "Requirement already satisfied: pickleshare in /usr/local/envs/py3env/lib/python3.5/site-packages (from ipython->shap) (0.7.4)\n",
      "Requirement already satisfied: decorator in /usr/local/envs/py3env/lib/python3.5/site-packages (from ipython->shap) (4.3.0)\n",
      "Requirement already satisfied: pexpect; sys_platform != \"win32\" in /usr/local/envs/py3env/lib/python3.5/site-packages (from ipython->shap) (4.6.0)\n",
      "Requirement already satisfied: python-dateutil>=2 in /usr/local/envs/py3env/lib/python3.5/site-packages (from pandas->shap) (2.5.0)\n",
      "Requirement already satisfied: pytz>=2011k in /usr/local/envs/py3env/lib/python3.5/site-packages (from pandas->shap) (2016.7)\n",
      "Requirement already satisfied: six>=1.10 in /usr/local/envs/py3env/lib/python3.5/site-packages (from matplotlib->shap) (1.10.0)\n",
      "Requirement already satisfied: cycler>=0.10 in /usr/local/envs/py3env/lib/python3.5/site-packages (from matplotlib->shap) (0.10.0)\n",
      "Requirement already satisfied: pyparsing!=2.0.4,!=2.1.2,!=2.1.6,>=2.0.1 in /usr/local/envs/py3env/lib/python3.5/site-packages (from matplotlib->shap) (2.2.0)\n",
      "Requirement already satisfied: ipython_genutils in /usr/local/envs/py3env/lib/python3.5/site-packages (from traitlets>=4.2->ipython->shap) (0.2.0)\n",
      "Requirement already satisfied: parso>=0.3.0 in /usr/local/envs/py3env/lib/python3.5/site-packages (from jedi>=0.10->ipython->shap) (0.3.1)\n",
      "Requirement already satisfied: wcwidth in /usr/local/envs/py3env/lib/python3.5/site-packages (from prompt-toolkit<2.0.0,>=1.0.15->ipython->shap) (0.1.7)\n",
      "Requirement already satisfied: ptyprocess>=0.5 in /usr/local/envs/py3env/lib/python3.5/site-packages (from pexpect; sys_platform != \"win32\"->ipython->shap) (0.6.0)\n",
      "Installing collected packages: tqdm, shap\n",
      "Successfully installed shap-0.25.2 tqdm-4.28.1\n"
     ]
    }
   ],
   "source": [
    "!pip install shap"
   ]
  },
  {
   "cell_type": "code",
   "execution_count": 4,
   "metadata": {},
   "outputs": [
    {
     "name": "stdout",
     "output_type": "stream",
     "text": [
      "Collecting gcsfs\n",
      "Requirement already satisfied: google-auth>=1.2 in /usr/local/envs/py3env/lib/python3.5/site-packages (from gcsfs) (1.5.1)\n",
      "Requirement already satisfied: google-auth-oauthlib in /usr/local/envs/py3env/lib/python3.5/site-packages (from gcsfs) (0.1.0)\n",
      "Requirement already satisfied: requests in /usr/local/envs/py3env/lib/python3.5/site-packages (from gcsfs) (2.18.4)\n",
      "Requirement already satisfied: decorator in /usr/local/envs/py3env/lib/python3.5/site-packages (from gcsfs) (4.3.0)\n",
      "Requirement already satisfied: pyasn1-modules>=0.2.1 in /usr/local/envs/py3env/lib/python3.5/site-packages (from google-auth>=1.2->gcsfs) (0.2.2)\n",
      "Requirement already satisfied: rsa>=3.1.4 in /usr/local/envs/py3env/lib/python3.5/site-packages (from google-auth>=1.2->gcsfs) (3.4.2)\n",
      "Requirement already satisfied: cachetools>=2.0.0 in /usr/local/envs/py3env/lib/python3.5/site-packages (from google-auth>=1.2->gcsfs) (2.1.0)\n",
      "Requirement already satisfied: six>=1.9.0 in /usr/local/envs/py3env/lib/python3.5/site-packages (from google-auth>=1.2->gcsfs) (1.10.0)\n",
      "Requirement already satisfied: requests-oauthlib>=0.7.0 in /usr/local/envs/py3env/lib/python3.5/site-packages (from google-auth-oauthlib->gcsfs) (0.8.0)\n",
      "Requirement already satisfied: chardet<3.1.0,>=3.0.2 in /usr/local/envs/py3env/lib/python3.5/site-packages (from requests->gcsfs) (3.0.4)\n",
      "Requirement already satisfied: idna<2.7,>=2.5 in /usr/local/envs/py3env/lib/python3.5/site-packages (from requests->gcsfs) (2.6)\n",
      "Requirement already satisfied: urllib3<1.23,>=1.21.1 in /usr/local/envs/py3env/lib/python3.5/site-packages (from requests->gcsfs) (1.22)\n",
      "Requirement already satisfied: certifi>=2017.4.17 in /usr/local/envs/py3env/lib/python3.5/site-packages (from requests->gcsfs) (2018.8.13)\n",
      "Requirement already satisfied: pyasn1<0.5.0,>=0.4.1 in /usr/local/envs/py3env/lib/python3.5/site-packages (from pyasn1-modules>=0.2.1->google-auth>=1.2->gcsfs) (0.4.4)\n",
      "Requirement already satisfied: oauthlib>=0.6.2 in /usr/local/envs/py3env/lib/python3.5/site-packages (from requests-oauthlib>=0.7.0->google-auth-oauthlib->gcsfs) (2.1.0)\n",
      "Installing collected packages: gcsfs\n",
      "Successfully installed gcsfs-0.2.0\n"
     ]
    }
   ],
   "source": [
    "!pip install gcsfs"
   ]
  },
  {
   "cell_type": "code",
   "execution_count": 5,
   "metadata": {},
   "outputs": [
    {
     "name": "stdout",
     "output_type": "stream",
     "text": [
      "Collecting google-cloud-storage\n",
      "  Using cached https://files.pythonhosted.org/packages/d7/62/a2e3111bf4d1eb54fe86dec694418644e024eb059bf1e66ebdcf9f98ad70/google_cloud_storage-1.13.0-py2.py3-none-any.whl\n",
      "Requirement already satisfied: google-api-core<2.0.0dev,>=0.1.1 in /usr/local/envs/py3env/lib/python3.5/site-packages (from google-cloud-storage) (0.1.4)\n",
      "Requirement already satisfied: google-resumable-media>=0.3.1 in /usr/local/envs/py3env/lib/python3.5/site-packages (from google-cloud-storage) (0.3.1)\n",
      "Requirement already satisfied: google-cloud-core<0.29dev,>=0.28.0 in /usr/local/envs/py3env/lib/python3.5/site-packages (from google-cloud-storage) (0.28.1)\n",
      "Requirement already satisfied: protobuf>=3.0.0 in /usr/local/envs/py3env/lib/python3.5/site-packages (from google-api-core<2.0.0dev,>=0.1.1->google-cloud-storage) (3.5.2)\n",
      "Requirement already satisfied: pytz in /usr/local/envs/py3env/lib/python3.5/site-packages (from google-api-core<2.0.0dev,>=0.1.1->google-cloud-storage) (2016.7)\n",
      "Requirement already satisfied: google-auth<2.0.0dev,>=0.4.0 in /usr/local/envs/py3env/lib/python3.5/site-packages (from google-api-core<2.0.0dev,>=0.1.1->google-cloud-storage) (1.5.1)\n",
      "Requirement already satisfied: requests<3.0.0dev,>=2.18.0 in /usr/local/envs/py3env/lib/python3.5/site-packages (from google-api-core<2.0.0dev,>=0.1.1->google-cloud-storage) (2.18.4)\n",
      "Requirement already satisfied: googleapis-common-protos<2.0dev,>=1.5.3 in /usr/local/envs/py3env/lib/python3.5/site-packages (from google-api-core<2.0.0dev,>=0.1.1->google-cloud-storage) (1.5.3)\n",
      "Requirement already satisfied: six>=1.10.0 in /usr/local/envs/py3env/lib/python3.5/site-packages (from google-api-core<2.0.0dev,>=0.1.1->google-cloud-storage) (1.10.0)\n",
      "Requirement already satisfied: setuptools>=34.0.0 in /usr/local/envs/py3env/lib/python3.5/site-packages (from google-api-core<2.0.0dev,>=0.1.1->google-cloud-storage) (40.0.0)\n",
      "Requirement already satisfied: rsa>=3.1.4 in /usr/local/envs/py3env/lib/python3.5/site-packages (from google-auth<2.0.0dev,>=0.4.0->google-api-core<2.0.0dev,>=0.1.1->google-cloud-storage) (3.4.2)\n",
      "Requirement already satisfied: pyasn1-modules>=0.2.1 in /usr/local/envs/py3env/lib/python3.5/site-packages (from google-auth<2.0.0dev,>=0.4.0->google-api-core<2.0.0dev,>=0.1.1->google-cloud-storage) (0.2.2)\n",
      "Requirement already satisfied: cachetools>=2.0.0 in /usr/local/envs/py3env/lib/python3.5/site-packages (from google-auth<2.0.0dev,>=0.4.0->google-api-core<2.0.0dev,>=0.1.1->google-cloud-storage) (2.1.0)\n",
      "Requirement already satisfied: chardet<3.1.0,>=3.0.2 in /usr/local/envs/py3env/lib/python3.5/site-packages (from requests<3.0.0dev,>=2.18.0->google-api-core<2.0.0dev,>=0.1.1->google-cloud-storage) (3.0.4)\n",
      "Requirement already satisfied: idna<2.7,>=2.5 in /usr/local/envs/py3env/lib/python3.5/site-packages (from requests<3.0.0dev,>=2.18.0->google-api-core<2.0.0dev,>=0.1.1->google-cloud-storage) (2.6)\n",
      "Requirement already satisfied: urllib3<1.23,>=1.21.1 in /usr/local/envs/py3env/lib/python3.5/site-packages (from requests<3.0.0dev,>=2.18.0->google-api-core<2.0.0dev,>=0.1.1->google-cloud-storage) (1.22)\n",
      "Requirement already satisfied: certifi>=2017.4.17 in /usr/local/envs/py3env/lib/python3.5/site-packages (from requests<3.0.0dev,>=2.18.0->google-api-core<2.0.0dev,>=0.1.1->google-cloud-storage) (2018.8.13)\n",
      "Requirement already satisfied: pyasn1>=0.1.3 in /usr/local/envs/py3env/lib/python3.5/site-packages (from rsa>=3.1.4->google-auth<2.0.0dev,>=0.4.0->google-api-core<2.0.0dev,>=0.1.1->google-cloud-storage) (0.4.4)\n",
      "Installing collected packages: google-cloud-storage\n",
      "Successfully installed google-cloud-storage-1.13.0\n"
     ]
    }
   ],
   "source": [
    "!pip install google-cloud-storage"
   ]
  },
  {
   "cell_type": "code",
   "execution_count": 6,
   "metadata": {},
   "outputs": [
    {
     "name": "stdout",
     "output_type": "stream",
     "text": [
      "Collecting tables\n",
      "  Using cached https://files.pythonhosted.org/packages/a5/df/d70f5df27f72082b4c6977d202788904f613089667e791c4aca0986bb229/tables-3.4.4-cp35-cp35m-manylinux1_x86_64.whl\n",
      "Requirement already satisfied: six>=1.9.0 in /usr/local/envs/py3env/lib/python3.5/site-packages (from tables) (1.10.0)\n",
      "Collecting numexpr>=2.5.2 (from tables)\n",
      "  Using cached https://files.pythonhosted.org/packages/0e/5b/f26e64e96dbd8e17f6768bc711096e83777ed057b2ffc663a8f61d02e1a8/numexpr-2.6.8-cp35-cp35m-manylinux1_x86_64.whl\n",
      "Requirement already satisfied: numpy>=1.8.0 in /usr/local/envs/py3env/lib/python3.5/site-packages (from tables) (1.14.0)\n",
      "Installing collected packages: numexpr, tables\n",
      "Successfully installed numexpr-2.6.8 tables-3.4.4\n"
     ]
    }
   ],
   "source": [
    "!pip install tables"
   ]
  },
  {
   "cell_type": "code",
   "execution_count": null,
   "metadata": {},
   "outputs": [],
   "source": []
  }
 ],
 "metadata": {
  "kernelspec": {
   "display_name": "Python 3",
   "language": "python",
   "name": "python3"
  },
  "language_info": {
   "codemirror_mode": {
    "name": "ipython",
    "version": 3
   },
   "file_extension": ".py",
   "mimetype": "text/x-python",
   "name": "python",
   "nbconvert_exporter": "python",
   "pygments_lexer": "ipython3",
   "version": "3.5.2"
  }
 },
 "nbformat": 4,
 "nbformat_minor": 2
}
